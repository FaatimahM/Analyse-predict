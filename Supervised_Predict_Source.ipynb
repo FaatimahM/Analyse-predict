{
  "nbformat": 4,
  "nbformat_minor": 0,
  "metadata": {
    "kernelspec": {
      "display_name": "Python 3",
      "language": "python",
      "name": "python3"
    },
    "language_info": {
      "codemirror_mode": {
        "name": "ipython",
        "version": 3
      },
      "file_extension": ".py",
      "mimetype": "text/x-python",
      "name": "python",
      "nbconvert_exporter": "python",
      "pygments_lexer": "ipython3",
      "version": "3.7.3"
    },
    "colab": {
      "name": "Supervised-Predict - Source.ipynb",
      "provenance": [],
      "toc_visible": true,
      "include_colab_link": true
    }
  },
  "cells": [
    {
      "cell_type": "markdown",
      "metadata": {
        "id": "view-in-github",
        "colab_type": "text"
      },
      "source": [
        "<a href=\"https://colab.research.google.com/github/FaatimahM/Analyse-predict/blob/master/Supervised_Predict_Source.ipynb\" target=\"_parent\"><img src=\"https://colab.research.google.com/assets/colab-badge.svg\" alt=\"Open In Colab\"/></a>"
      ]
    },
    {
      "cell_type": "markdown",
      "metadata": {
        "id": "oLDB6eIHX0xR",
        "colab_type": "text"
      },
      "source": [
        "# Predict - Machine Learning Algorithms"
      ]
    },
    {
      "cell_type": "markdown",
      "metadata": {
        "id": "bGDoNoybX0xS",
        "colab_type": "text"
      },
      "source": [
        "This is the project on Machine Learning Algorithms. We will start by pre-processing the data for you. You then need to create 10 functions as specified in the project instructions.\n",
        "\n",
        "NB: Make sure the Personal_Loans.csv file is in the same directory as this notebook\n",
        "\n",
        "**PROJECT RULES**:\n",
        "\n",
        "* You may not import any external packages (except for the ones already imported) - all of the functions need to be solved WITHOUT THE USE OF ANY OTHER EXTERNAL MODULES.\n",
        "* Most importantly: your functions need to return the answer (not just print it out).\n",
        "* Do not add or remove any cells from this notebook. Use another notebook to experiment in (or in which to do your workings), but your submission may not have any additional cells or functions.\n",
        "* Only fill in code where the #YOUR CODE tags appear. No code outside these areas (or outside the given functions) will be marked."
      ]
    },
    {
      "cell_type": "markdown",
      "metadata": {
        "id": "gzviSlgZX0xU",
        "colab_type": "text"
      },
      "source": [
        "## Pre-processing"
      ]
    },
    {
      "cell_type": "markdown",
      "metadata": {
        "id": "sxP_WRqDX0xV",
        "colab_type": "text"
      },
      "source": [
        "### Import Data"
      ]
    },
    {
      "cell_type": "code",
      "metadata": {
        "id": "nJ9viY2wX0xW",
        "colab_type": "code",
        "colab": {
          "base_uri": "https://localhost:8080/",
          "height": 71
        },
        "outputId": "d4c93388-1b1f-4bcf-c170-7d63332f6b98"
      },
      "source": [
        "import numpy as np\n",
        "import pandas as pd\n",
        "import matplotlib.pyplot as plt\n",
        "import seaborn as sns\n",
        "%matplotlib inline\n",
        "from sklearn.preprocessing import StandardScaler\n",
        "from sklearn.model_selection import train_test_split\n",
        "from sklearn.linear_model import LinearRegression\n",
        "from sklearn.linear_model import LogisticRegression\n",
        "from sklearn.linear_model import Ridge\n",
        "from sklearn.linear_model import Lasso\n",
        "from sklearn.neighbors import KNeighborsRegressor\n",
        "from sklearn.neighbors import KNeighborsClassifier\n",
        "from sklearn.tree import DecisionTreeRegressor\n",
        "from sklearn.tree import DecisionTreeClassifier\n",
        "from sklearn.ensemble import RandomForestRegressor\n",
        "from sklearn.ensemble import RandomForestClassifier\n",
        "from sklearn.svm import SVC\n",
        "from sklearn.svm import SVR\n",
        "from sklearn.metrics import mean_squared_error\n",
        "from sklearn.metrics import confusion_matrix\n",
        "from sklearn.metrics import classification_report\n",
        "from sklearn.metrics import precision_recall_fscore_support as score\n",
        "\n",
        "df = pd.read_csv('/content/Personal_Loans.csv')"
      ],
      "execution_count": 1,
      "outputs": [
        {
          "output_type": "stream",
          "text": [
            "/usr/local/lib/python3.6/dist-packages/statsmodels/tools/_testing.py:19: FutureWarning: pandas.util.testing is deprecated. Use the functions in the public API at pandas.testing instead.\n",
            "  import pandas.util.testing as tm\n"
          ],
          "name": "stderr"
        }
      ]
    },
    {
      "cell_type": "code",
      "metadata": {
        "id": "c3hy0z-SYnxS",
        "colab_type": "code",
        "colab": {
          "base_uri": "https://localhost:8080/",
          "height": 204
        },
        "outputId": "322b7275-758c-42a2-84f9-90a439b11b6e"
      },
      "source": [
        "df.head()"
      ],
      "execution_count": 2,
      "outputs": [
        {
          "output_type": "execute_result",
          "data": {
            "text/html": [
              "<div>\n",
              "<style scoped>\n",
              "    .dataframe tbody tr th:only-of-type {\n",
              "        vertical-align: middle;\n",
              "    }\n",
              "\n",
              "    .dataframe tbody tr th {\n",
              "        vertical-align: top;\n",
              "    }\n",
              "\n",
              "    .dataframe thead th {\n",
              "        text-align: right;\n",
              "    }\n",
              "</style>\n",
              "<table border=\"1\" class=\"dataframe\">\n",
              "  <thead>\n",
              "    <tr style=\"text-align: right;\">\n",
              "      <th></th>\n",
              "      <th>Age</th>\n",
              "      <th>Experience</th>\n",
              "      <th>Income</th>\n",
              "      <th>Family</th>\n",
              "      <th>CCAvg</th>\n",
              "      <th>Education</th>\n",
              "      <th>Mortgage</th>\n",
              "      <th>Securities Account</th>\n",
              "      <th>CD Account</th>\n",
              "      <th>Online</th>\n",
              "      <th>Gender</th>\n",
              "      <th>Area</th>\n",
              "      <th>Personal Loan</th>\n",
              "      <th>Loan Size</th>\n",
              "    </tr>\n",
              "  </thead>\n",
              "  <tbody>\n",
              "    <tr>\n",
              "      <th>0</th>\n",
              "      <td>26</td>\n",
              "      <td>2</td>\n",
              "      <td>60</td>\n",
              "      <td>2</td>\n",
              "      <td>3.0</td>\n",
              "      <td>Undergrad</td>\n",
              "      <td>132</td>\n",
              "      <td>0</td>\n",
              "      <td>0</td>\n",
              "      <td>0</td>\n",
              "      <td>Male</td>\n",
              "      <td>Alameda</td>\n",
              "      <td>1</td>\n",
              "      <td>15</td>\n",
              "    </tr>\n",
              "    <tr>\n",
              "      <th>1</th>\n",
              "      <td>26</td>\n",
              "      <td>0</td>\n",
              "      <td>83</td>\n",
              "      <td>3</td>\n",
              "      <td>3.9</td>\n",
              "      <td>Postgrad</td>\n",
              "      <td>0</td>\n",
              "      <td>0</td>\n",
              "      <td>0</td>\n",
              "      <td>1</td>\n",
              "      <td>Female</td>\n",
              "      <td>Ventura</td>\n",
              "      <td>1</td>\n",
              "      <td>30</td>\n",
              "    </tr>\n",
              "    <tr>\n",
              "      <th>2</th>\n",
              "      <td>26</td>\n",
              "      <td>0</td>\n",
              "      <td>129</td>\n",
              "      <td>3</td>\n",
              "      <td>0.7</td>\n",
              "      <td>Postgrad</td>\n",
              "      <td>0</td>\n",
              "      <td>0</td>\n",
              "      <td>0</td>\n",
              "      <td>0</td>\n",
              "      <td>Male</td>\n",
              "      <td>Los Angeles</td>\n",
              "      <td>1</td>\n",
              "      <td>33</td>\n",
              "    </tr>\n",
              "    <tr>\n",
              "      <th>3</th>\n",
              "      <td>26</td>\n",
              "      <td>0</td>\n",
              "      <td>132</td>\n",
              "      <td>3</td>\n",
              "      <td>6.5</td>\n",
              "      <td>Professional</td>\n",
              "      <td>0</td>\n",
              "      <td>0</td>\n",
              "      <td>0</td>\n",
              "      <td>0</td>\n",
              "      <td>Female</td>\n",
              "      <td>Orange</td>\n",
              "      <td>1</td>\n",
              "      <td>40</td>\n",
              "    </tr>\n",
              "    <tr>\n",
              "      <th>4</th>\n",
              "      <td>26</td>\n",
              "      <td>2</td>\n",
              "      <td>132</td>\n",
              "      <td>2</td>\n",
              "      <td>2.4</td>\n",
              "      <td>Professional</td>\n",
              "      <td>0</td>\n",
              "      <td>0</td>\n",
              "      <td>0</td>\n",
              "      <td>0</td>\n",
              "      <td>Male</td>\n",
              "      <td>Alameda</td>\n",
              "      <td>1</td>\n",
              "      <td>35</td>\n",
              "    </tr>\n",
              "  </tbody>\n",
              "</table>\n",
              "</div>"
            ],
            "text/plain": [
              "   Age  Experience  Income  ...         Area  Personal Loan Loan Size\n",
              "0   26           2      60  ...      Alameda              1        15\n",
              "1   26           0      83  ...      Ventura              1        30\n",
              "2   26           0     129  ...  Los Angeles              1        33\n",
              "3   26           0     132  ...       Orange              1        40\n",
              "4   26           2     132  ...      Alameda              1        35\n",
              "\n",
              "[5 rows x 14 columns]"
            ]
          },
          "metadata": {
            "tags": []
          },
          "execution_count": 2
        }
      ]
    },
    {
      "cell_type": "markdown",
      "metadata": {
        "id": "HVEYIHZbX0xb",
        "colab_type": "text"
      },
      "source": [
        "### Pre-process Data"
      ]
    },
    {
      "cell_type": "code",
      "metadata": {
        "id": "Kd4bVREEX0xc",
        "colab_type": "code",
        "colab": {}
      },
      "source": [
        "# Regression labels\n",
        "y_r = df['Loan Size']\n",
        "\n",
        "# Classification labels\n",
        "y_c = df['Personal Loan']\n",
        "\n",
        "# Features\n",
        "X = df.drop(['Loan Size', 'Personal Loan'], axis=1)"
      ],
      "execution_count": 3,
      "outputs": []
    },
    {
      "cell_type": "code",
      "metadata": {
        "id": "OJD4PVzGX0xh",
        "colab_type": "code",
        "colab": {}
      },
      "source": [
        "# Transform data\n",
        "X_transformed = pd.get_dummies(X, drop_first=True)"
      ],
      "execution_count": 4,
      "outputs": []
    },
    {
      "cell_type": "code",
      "metadata": {
        "id": "AgbcKLm0X0xk",
        "colab_type": "code",
        "colab": {}
      },
      "source": [
        "# Standardize data\n",
        "scaler = StandardScaler()\n",
        "X_scaled = scaler.fit_transform(X_transformed)\n",
        "X_standardize = pd.DataFrame(X_scaled,columns=X_transformed.columns)"
      ],
      "execution_count": 5,
      "outputs": []
    },
    {
      "cell_type": "code",
      "metadata": {
        "id": "-m5oH7hUX0xp",
        "colab_type": "code",
        "colab": {}
      },
      "source": [
        "# Regression train/test split\n",
        "X_train_r, X_test_r, y_train_r, y_test_r = train_test_split(X_standardize, y_r, test_size=0.3, random_state=101)\n",
        "\n",
        "# Classification train/test split\n",
        "X_train_c, X_test_c, y_train_c, y_test_c = train_test_split(X_standardize, y_c, test_size=0.3, random_state=101)"
      ],
      "execution_count": 6,
      "outputs": []
    },
    {
      "cell_type": "markdown",
      "metadata": {
        "id": "41zPH7yhX0xs",
        "colab_type": "text"
      },
      "source": [
        "## Function 1"
      ]
    },
    {
      "cell_type": "markdown",
      "metadata": {
        "id": "d30VRjWXX0xs",
        "colab_type": "text"
      },
      "source": [
        "Write a function to return the intercept as a float (rounded to the nearest 3 decimals) of a linear regression model\n",
        "\n",
        "* Given the training features (X_train) and labels (y_train)"
      ]
    },
    {
      "cell_type": "code",
      "metadata": {
        "id": "XKT8GR-_Y4Ns",
        "colab_type": "code",
        "colab": {
          "base_uri": "https://localhost:8080/",
          "height": 34
        },
        "outputId": "1aa9e9a8-4539-41f6-992d-c9578ae16d99"
      },
      "source": [
        "lr = LinearRegression()\n",
        "lr_mod = lr.fit(X_train_r, y_train_r)\n",
        "round(lr_mod.intercept_,3)"
      ],
      "execution_count": 8,
      "outputs": [
        {
          "output_type": "execute_result",
          "data": {
            "text/plain": [
              "3.113"
            ]
          },
          "metadata": {
            "tags": []
          },
          "execution_count": 8
        }
      ]
    },
    {
      "cell_type": "code",
      "metadata": {
        "id": "Fgoy95pcX0xt",
        "colab_type": "code",
        "colab": {}
      },
      "source": [
        "### START FUNCTION 1\n",
        "\n",
        "def lin_reg_intercept(X_train, y_train):\n",
        "    \n",
        "    lr = LinearRegression()\n",
        "    lr_mod = lr.fit(X_train, y_train)\n",
        "    intercept = round(lr_mod.intercept_,3)\n",
        "    return intercept \n",
        "    \n",
        "### END FUNCTION 1"
      ],
      "execution_count": 9,
      "outputs": []
    },
    {
      "cell_type": "code",
      "metadata": {
        "id": "dM9cGlRpX0xw",
        "colab_type": "code",
        "colab": {
          "base_uri": "https://localhost:8080/",
          "height": 34
        },
        "outputId": "b06edb70-a22f-4538-f5da-b6382cab031c"
      },
      "source": [
        "lin_reg_intercept(X_train_r, y_train_r)"
      ],
      "execution_count": 10,
      "outputs": [
        {
          "output_type": "execute_result",
          "data": {
            "text/plain": [
              "3.113"
            ]
          },
          "metadata": {
            "tags": []
          },
          "execution_count": 10
        }
      ]
    },
    {
      "cell_type": "markdown",
      "metadata": {
        "id": "RtwlkiRIX0xz",
        "colab_type": "text"
      },
      "source": [
        "## Function 2"
      ]
    },
    {
      "cell_type": "markdown",
      "metadata": {
        "id": "N6hRA8PSX0xz",
        "colab_type": "text"
      },
      "source": [
        "Write a function to return the number of coefficients greater than 0 in a lasso model (as an integer)\n",
        "\n",
        "* Given the training features (X_train) and labels (y_train)\n",
        "* For a specific value of the regularisation parameter (alpha)"
      ]
    },
    {
      "cell_type": "code",
      "metadata": {
        "id": "Zvm3-30ZaWgh",
        "colab_type": "code",
        "colab": {
          "base_uri": "https://localhost:8080/",
          "height": 34
        },
        "outputId": "b3bc11a4-95bb-401b-971a-c71b2d6f5be0"
      },
      "source": [
        "clf = Lasso(alpha=0.1)\n",
        "clf.fit(X_train_r, y_train_r)\n",
        "list_of_coef = []\n",
        "for x in clf.coef_:\n",
        "  if x>0:\n",
        "    list_of_coef.append(x)\n",
        "len(list_of_coef)"
      ],
      "execution_count": 14,
      "outputs": [
        {
          "output_type": "execute_result",
          "data": {
            "text/plain": [
              "15"
            ]
          },
          "metadata": {
            "tags": []
          },
          "execution_count": 14
        }
      ]
    },
    {
      "cell_type": "code",
      "metadata": {
        "id": "RyjWmfYJX0x0",
        "colab_type": "code",
        "colab": {}
      },
      "source": [
        "### START FUNCTION 2\n",
        "\n",
        "def lasso_predictors(X_train, y_train, alpha):\n",
        "  clf = Lasso(alpha = alpha)\n",
        "  clf.fit(X_train, y_train)\n",
        "  list_of_coef = []\n",
        "  for x in clf.coef_:\n",
        "    if x>0:\n",
        "      list_of_coef.append(x)\n",
        "  return len(list_of_coef)\n",
        "\n",
        "### END FUNCTION 2"
      ],
      "execution_count": 15,
      "outputs": []
    },
    {
      "cell_type": "code",
      "metadata": {
        "id": "3gZtP27xX0x2",
        "colab_type": "code",
        "colab": {
          "base_uri": "https://localhost:8080/",
          "height": 34
        },
        "outputId": "b9a94d6f-2c80-49e0-be83-1ce3cc2e9dd3"
      },
      "source": [
        "lasso_predictors(X_train_r, y_train_r, 0.001)"
      ],
      "execution_count": 16,
      "outputs": [
        {
          "output_type": "execute_result",
          "data": {
            "text/plain": [
              "28"
            ]
          },
          "metadata": {
            "tags": []
          },
          "execution_count": 16
        }
      ]
    },
    {
      "cell_type": "markdown",
      "metadata": {
        "id": "SqBSuw5XX0x5",
        "colab_type": "text"
      },
      "source": [
        "## Function 3"
      ]
    },
    {
      "cell_type": "markdown",
      "metadata": {
        "id": "NhvbrHlKX0x5",
        "colab_type": "text"
      },
      "source": [
        "Write a function to return the mean squared error as a float (rounded to the nearest 3 decimals) of a K Nearest Neighbors model \n",
        "\n",
        "* Given the training features (X_train) training labels (y_train), testing features (X_test) and testing labels (y_test)\n",
        "* For a specific value of nearest neighbors (k)"
      ]
    },
    {
      "cell_type": "code",
      "metadata": {
        "id": "fFbzbbB3dsOL",
        "colab_type": "code",
        "colab": {
          "base_uri": "https://localhost:8080/",
          "height": 34
        },
        "outputId": "e825692d-80c0-4c20-c00c-33f7c383aa92"
      },
      "source": [
        "neigh = KNeighborsRegressor(n_neighbors=3)\n",
        "kn_mod = neigh.fit(X_train_r, y_train_r)\n",
        "y_pred = kn_mod.predict(X_test_r)\n",
        "mse = round(mean_squared_error(y_test_r, y_pred),3)\n",
        "mse"
      ],
      "execution_count": 18,
      "outputs": [
        {
          "output_type": "execute_result",
          "data": {
            "text/plain": [
              "85.286"
            ]
          },
          "metadata": {
            "tags": []
          },
          "execution_count": 18
        }
      ]
    },
    {
      "cell_type": "code",
      "metadata": {
        "id": "dSU3tWZ4X0x6",
        "colab_type": "code",
        "colab": {}
      },
      "source": [
        "### START FUNCTION 3\n",
        "\n",
        "def knn_mse(X_train, y_train, X_test, y_test, k):\n",
        "  neigh = KNeighborsRegressor(n_neighbors=k)\n",
        "  kn_mod = neigh.fit(X_train, y_train)\n",
        "  y_pred = kn_mod.predict(X_test)\n",
        "  mse = round(mean_squared_error(y_test, y_pred),3)\n",
        "  return mse\n",
        "    \n",
        "\n",
        "### END FUNCTION 3"
      ],
      "execution_count": 21,
      "outputs": []
    },
    {
      "cell_type": "code",
      "metadata": {
        "id": "evim9I15X0x9",
        "colab_type": "code",
        "colab": {
          "base_uri": "https://localhost:8080/",
          "height": 34
        },
        "outputId": "81081d7c-35db-41a8-a649-ef853e678e85"
      },
      "source": [
        "knn_mse(X_train_r, y_train_r, X_test_r, y_test_r, 3)"
      ],
      "execution_count": 22,
      "outputs": [
        {
          "output_type": "execute_result",
          "data": {
            "text/plain": [
              "85.286"
            ]
          },
          "metadata": {
            "tags": []
          },
          "execution_count": 22
        }
      ]
    },
    {
      "cell_type": "markdown",
      "metadata": {
        "id": "YZ_G8gP8X0yA",
        "colab_type": "text"
      },
      "source": [
        "## Function 4"
      ]
    },
    {
      "cell_type": "markdown",
      "metadata": {
        "id": "FnDUSclaX0yA",
        "colab_type": "text"
      },
      "source": [
        "Write a function to return the mean squared error as a float (rounded to the nearest 3 decimals) of a Random Forest model \n",
        "\n",
        "* Given the training features (X_train), training labels (y_train), testing features (X_test) and testing labels (y_test)\n",
        "* For a specific value of the number of trees in the forest (no_trees), random state (random_state) and the maximum depth of the trees (max_depth)"
      ]
    },
    {
      "cell_type": "code",
      "metadata": {
        "id": "zf2h80pYforb",
        "colab_type": "code",
        "colab": {
          "base_uri": "https://localhost:8080/",
          "height": 34
        },
        "outputId": "aba11dd0-f2b2-41b7-9bb1-2fa9a5836403"
      },
      "source": [
        "rf = RandomForestRegressor(random_state=23, n_estimators=100, max_depth= 3)\n",
        "rf_mod = rf.fit(X_train_r, y_train_r)\n",
        "y_pred = rf_mod.predict(X_test_r)\n",
        "mse = round(mean_squared_error(y_test_r, y_pred),3)\n",
        "mse"
      ],
      "execution_count": 25,
      "outputs": [
        {
          "output_type": "execute_result",
          "data": {
            "text/plain": [
              "12.854"
            ]
          },
          "metadata": {
            "tags": []
          },
          "execution_count": 25
        }
      ]
    },
    {
      "cell_type": "code",
      "metadata": {
        "id": "qZ8wZgRSX0yB",
        "colab_type": "code",
        "colab": {}
      },
      "source": [
        "### START FUNCTION 4\n",
        "\n",
        "def forest_mse(X_train, y_train, X_test, y_test, random_state, no_trees, max_depth):\n",
        "  rf = RandomForestRegressor(random_state=random_state, n_estimators=no_trees, max_depth= max_depth)\n",
        "  rf_mod = rf.fit(X_train, y_train)\n",
        "  y_pred = rf_mod.predict(X_test)\n",
        "  mse = round(mean_squared_error(y_test, y_pred),3)\n",
        "  return mse\n",
        "    \n",
        "    \n",
        "\n",
        "### END FUNCTION 4"
      ],
      "execution_count": 28,
      "outputs": []
    },
    {
      "cell_type": "code",
      "metadata": {
        "id": "IhPXdK8uX0yD",
        "colab_type": "code",
        "colab": {
          "base_uri": "https://localhost:8080/",
          "height": 34
        },
        "outputId": "3fbd5a83-e4d6-4fbe-ee25-065d141851e1"
      },
      "source": [
        "forest_mse(X_train_r, y_train_r, X_test_r, y_test_r, 23, 100, 3)"
      ],
      "execution_count": 29,
      "outputs": [
        {
          "output_type": "execute_result",
          "data": {
            "text/plain": [
              "12.854"
            ]
          },
          "metadata": {
            "tags": []
          },
          "execution_count": 29
        }
      ]
    },
    {
      "cell_type": "markdown",
      "metadata": {
        "id": "-Y2rJUHdX0yG",
        "colab_type": "text"
      },
      "source": [
        "## Function 5"
      ]
    },
    {
      "cell_type": "markdown",
      "metadata": {
        "id": "JMhstDLKX0yG",
        "colab_type": "text"
      },
      "source": [
        "Write a function to return the mean squared error as a float (rounded to the nearest 3 decimals) of a specific model \n",
        "\n",
        "* Given the training features (X_train), training labels (y_train), testing features (X_test) and testing labels (y_test)"
      ]
    },
    {
      "cell_type": "code",
      "metadata": {
        "id": "HAR8k5l3hMQ3",
        "colab_type": "code",
        "colab": {}
      },
      "source": [
        "m = model\n",
        "mod = m.fit(X_train, y_train)\n",
        "y_pred = mod.predict(X_test)\n",
        "mse = round(mean_squared_error(y_test, y_pred),3)\n",
        "mse"
      ],
      "execution_count": null,
      "outputs": []
    },
    {
      "cell_type": "code",
      "metadata": {
        "id": "oP6uCx6aX0yH",
        "colab_type": "code",
        "colab": {}
      },
      "source": [
        "### START FUNCTION 5\n",
        "\n",
        "def choose_model(X_train, y_train, X_test, y_test, model):\n",
        "    \n",
        "  m = model\n",
        "  mod = m.fit(X_train, y_train)\n",
        "  y_pred = mod.predict(X_test)\n",
        "  mse = round(mean_squared_error(y_test, y_pred),3)\n",
        "  return mse\n",
        "\n",
        "### END FUNCTION 5"
      ],
      "execution_count": 30,
      "outputs": []
    },
    {
      "cell_type": "code",
      "metadata": {
        "id": "3zLnuuKMX0yJ",
        "colab_type": "code",
        "colab": {
          "base_uri": "https://localhost:8080/",
          "height": 34
        },
        "outputId": "762c41e4-2400-4c97-c081-b6833d30ec59"
      },
      "source": [
        "choose_model(X_train_r, y_train_r, X_test_r, y_test_r, RandomForestRegressor())"
      ],
      "execution_count": 31,
      "outputs": [
        {
          "output_type": "execute_result",
          "data": {
            "text/plain": [
              "7.78"
            ]
          },
          "metadata": {
            "tags": []
          },
          "execution_count": 31
        }
      ]
    },
    {
      "cell_type": "markdown",
      "metadata": {
        "id": "X2KPvZDeX0yN",
        "colab_type": "text"
      },
      "source": [
        "## Function 6"
      ]
    },
    {
      "cell_type": "markdown",
      "metadata": {
        "id": "vgCYj2nMX0yN",
        "colab_type": "text"
      },
      "source": [
        "Write a function to return the number of false negatives (as an integer) of a logistic regression model \n",
        "\n",
        "* Given the training features (X_train), training labels (y_train), testing features (X_test) and testing labels (y_test)"
      ]
    },
    {
      "cell_type": "code",
      "metadata": {
        "id": "somE1eUrhsYL",
        "colab_type": "code",
        "colab": {
          "base_uri": "https://localhost:8080/",
          "height": 34
        },
        "outputId": "dffe4a1b-2230-473d-8d4d-2f96f96b357e"
      },
      "source": [
        "lr = LogisticRegression()\n",
        "lr_mod = lr.fit(X_train_c, y_train_c)\n",
        "y_pred = lr_mod.predict( X_test_c)\n",
        "\n",
        "tn, fp, fn, tp = confusion_matrix(y_test_c, y_pred).ravel()\n",
        "fn\n"
      ],
      "execution_count": 33,
      "outputs": [
        {
          "output_type": "execute_result",
          "data": {
            "text/plain": [
              "53"
            ]
          },
          "metadata": {
            "tags": []
          },
          "execution_count": 33
        }
      ]
    },
    {
      "cell_type": "code",
      "metadata": {
        "id": "DCrSIrDvi2JX",
        "colab_type": "code",
        "colab": {
          "base_uri": "https://localhost:8080/",
          "height": 51
        },
        "outputId": "3c28296a-5181-4d56-e4af-1f3d8b17406b"
      },
      "source": [
        "cf = confusion_matrix(y_test_c, y_pred)\n",
        "cf"
      ],
      "execution_count": 34,
      "outputs": [
        {
          "output_type": "execute_result",
          "data": {
            "text/plain": [
              "array([[1285,   17],\n",
              "       [  53,   99]])"
            ]
          },
          "metadata": {
            "tags": []
          },
          "execution_count": 34
        }
      ]
    },
    {
      "cell_type": "code",
      "metadata": {
        "id": "B59DJyVBX0yO",
        "colab_type": "code",
        "colab": {}
      },
      "source": [
        "### START FUNCTION 6\n",
        "\n",
        "def log_reg_fn(X_train, y_train, X_test, y_test):\n",
        "    \n",
        "  lr = LogisticRegression()\n",
        "  lr_mod = lr.fit(X_train, y_train)\n",
        "  y_pred = lr_mod.predict(X_test)\n",
        "\n",
        "  tn, fp, fn, tp = confusion_matrix(y_test, y_pred).ravel()\n",
        "  return fn\n",
        "\n",
        "### END FUNCTION 6"
      ],
      "execution_count": 35,
      "outputs": []
    },
    {
      "cell_type": "code",
      "metadata": {
        "id": "hw5rnThNX0yR",
        "colab_type": "code",
        "colab": {
          "base_uri": "https://localhost:8080/",
          "height": 34
        },
        "outputId": "d208f46e-8cea-478a-af00-b0debd2261c1"
      },
      "source": [
        "log_reg_fn(X_train_c, y_train_c, X_test_c, y_test_c)"
      ],
      "execution_count": 36,
      "outputs": [
        {
          "output_type": "execute_result",
          "data": {
            "text/plain": [
              "53"
            ]
          },
          "metadata": {
            "tags": []
          },
          "execution_count": 36
        }
      ]
    },
    {
      "cell_type": "markdown",
      "metadata": {
        "id": "DntYTVI8X0yV",
        "colab_type": "text"
      },
      "source": [
        "## Function 7"
      ]
    },
    {
      "cell_type": "markdown",
      "metadata": {
        "id": "AoIE4MvjX0yV",
        "colab_type": "text"
      },
      "source": [
        "Write a function to return the number of true positives (as an integer) of a decision tree model \n",
        "\n",
        "* Given the training features (X_train), training labels (y_train), testing features (X_test) and testing labels (y_test)\n",
        "* For a specific random state (random_state) and maximum depth of the tree (max_depth)"
      ]
    },
    {
      "cell_type": "code",
      "metadata": {
        "id": "6otIVwZwjPts",
        "colab_type": "code",
        "colab": {
          "base_uri": "https://localhost:8080/",
          "height": 34
        },
        "outputId": "5f832f4d-2174-4945-d22d-131a96601af5"
      },
      "source": [
        "dt = DecisionTreeClassifier(random_state=3, max_depth= 100)\n",
        "dt_mod= dt.fit(X_train_c, y_train_c)\n",
        "y_pred = dt_mod.predict(X_test_c)\n",
        "\n",
        "tn, fp, fn, tp = confusion_matrix(y_test_c, y_pred).ravel()\n",
        "tp"
      ],
      "execution_count": 39,
      "outputs": [
        {
          "output_type": "execute_result",
          "data": {
            "text/plain": [
              "138"
            ]
          },
          "metadata": {
            "tags": []
          },
          "execution_count": 39
        }
      ]
    },
    {
      "cell_type": "code",
      "metadata": {
        "id": "pXoEju3ZX0yW",
        "colab_type": "code",
        "colab": {}
      },
      "source": [
        "### START FUNCTION 7\n",
        "\n",
        "def decision_tree_tp(X_train, y_train, X_test, y_test, max_depth, random_state):\n",
        "  dt = DecisionTreeClassifier(random_state=random_state, max_depth= max_depth)\n",
        "  dt_mod= dt.fit(X_train, y_train)\n",
        "  y_pred = dt_mod.predict(X_test)\n",
        "\n",
        "  tn, fp, fn, tp = confusion_matrix(y_test, y_pred).ravel()\n",
        "  return tp    \n",
        "    \n",
        "\n",
        "### END FUNCTION 7"
      ],
      "execution_count": 42,
      "outputs": []
    },
    {
      "cell_type": "code",
      "metadata": {
        "id": "DOoC2mOrX0yY",
        "colab_type": "code",
        "colab": {
          "base_uri": "https://localhost:8080/",
          "height": 34
        },
        "outputId": "32a03933-78bb-467f-e7e6-e3945c9ee6a9"
      },
      "source": [
        "decision_tree_tp(X_train_c, y_train_c, X_test_c, y_test_c, 3, 100)"
      ],
      "execution_count": 43,
      "outputs": [
        {
          "output_type": "execute_result",
          "data": {
            "text/plain": [
              "135"
            ]
          },
          "metadata": {
            "tags": []
          },
          "execution_count": 43
        }
      ]
    },
    {
      "cell_type": "markdown",
      "metadata": {
        "id": "_7LHmitEX0yb",
        "colab_type": "text"
      },
      "source": [
        "## Function 8"
      ]
    },
    {
      "cell_type": "markdown",
      "metadata": {
        "id": "zqbzBMfwX0yb",
        "colab_type": "text"
      },
      "source": [
        "Write a function to return the weighted average precision (i.e both classes) as a float (rounded to the nearest 3 decimals) of a SVM model \n",
        "\n",
        "* Given the training features (X_train), training labels (y_train), testing features (X_test) and testing labels (y_test)\n",
        "* For a specific random state (random_state), choice of kernel (kernel) and regularisation parameters (C, gamma)"
      ]
    },
    {
      "cell_type": "code",
      "metadata": {
        "id": "2bkw916MkQPQ",
        "colab_type": "code",
        "colab": {}
      },
      "source": [
        ""
      ],
      "execution_count": null,
      "outputs": []
    },
    {
      "cell_type": "code",
      "metadata": {
        "id": "iu_dqyueX0yb",
        "colab_type": "code",
        "colab": {}
      },
      "source": [
        "### START FUNCTION 8\n",
        "\n",
        "def svm_precision(X_train, y_train, X_test, y_test, kernel, C, gamma, random_state):\n",
        "    \n",
        "    # YOUR CODE HERE\n",
        "\n",
        "### END FUNCTION 8"
      ],
      "execution_count": null,
      "outputs": []
    },
    {
      "cell_type": "code",
      "metadata": {
        "id": "CYDVWsTzX0yh",
        "colab_type": "code",
        "colab": {}
      },
      "source": [
        "svm_precision(X_train_c, y_train_c, X_test_c, y_test_c, 'rbf', 1, 0.1, 23)"
      ],
      "execution_count": null,
      "outputs": []
    },
    {
      "cell_type": "markdown",
      "metadata": {
        "id": "FCEC2qQZX0yk",
        "colab_type": "text"
      },
      "source": [
        "## Function 9"
      ]
    },
    {
      "cell_type": "markdown",
      "metadata": {
        "id": "7OrLNoBAX0yl",
        "colab_type": "text"
      },
      "source": [
        "Write a function to return the weighted average f1-score (i.e. both classes) as a float (rounded to the nearest 3 decimals) of a specific model \n",
        "\n",
        "* Given the training features (X_train), training labels (y_train), testing features (X_test) and testing labels (y_test)"
      ]
    },
    {
      "cell_type": "code",
      "metadata": {
        "id": "czuIsDIcX0yl",
        "colab_type": "code",
        "colab": {}
      },
      "source": [
        "### START FUNCTION 9\n",
        "\n",
        "def model_f1_score(X_train, y_train, X_test, y_test, model):\n",
        "    \n",
        "    # YOUR CODE HERE\n",
        "\n",
        "### END FUNCTION 9"
      ],
      "execution_count": null,
      "outputs": []
    },
    {
      "cell_type": "code",
      "metadata": {
        "id": "cZkf6qXaX0yp",
        "colab_type": "code",
        "colab": {}
      },
      "source": [
        "model_f1_score(X_train_c, y_train_c, X_test_c, y_test_c, SVC())"
      ],
      "execution_count": null,
      "outputs": []
    },
    {
      "cell_type": "markdown",
      "metadata": {
        "id": "gxM5PYYcX0yr",
        "colab_type": "text"
      },
      "source": [
        "## Function 10"
      ]
    },
    {
      "cell_type": "markdown",
      "metadata": {
        "id": "NvdwQpZ4X0yr",
        "colab_type": "text"
      },
      "source": [
        "Write a function to return the weighted average (i.e. both classes) of a specific metric (\"Precision\", \"Recall\" or \"F1_score\") as a float (rounded to the nearest 3 decimals) of a specific model \n",
        "\n",
        "* Given the training features (X_train), training labels (y_train), testing features (X_test) and testing labels (y_test)"
      ]
    },
    {
      "cell_type": "code",
      "metadata": {
        "id": "-UOAg8hzX0ys",
        "colab_type": "code",
        "colab": {}
      },
      "source": [
        "### START FUNCTION 10\n",
        "\n",
        "def model_metric_output(X_train, y_train, X_test, y_test, model, metric):\n",
        "    \n",
        "    # YOUR CODE HERE\n",
        "\n",
        "### END FUNCTION 10"
      ],
      "execution_count": null,
      "outputs": []
    },
    {
      "cell_type": "code",
      "metadata": {
        "id": "REJdN9-2X0yu",
        "colab_type": "code",
        "colab": {}
      },
      "source": [
        "model_metric_output(X_train_c, y_train_c, X_test_c, y_test_c, SVC(), 'F1_score')"
      ],
      "execution_count": null,
      "outputs": []
    }
  ]
}